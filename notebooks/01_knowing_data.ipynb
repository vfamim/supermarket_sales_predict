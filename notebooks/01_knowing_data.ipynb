{
 "cells": [
  {
   "cell_type": "code",
   "execution_count": 1,
   "id": "c0cc0568-2f3a-4d10-a33b-2b4a12342718",
   "metadata": {},
   "outputs": [
    {
     "name": "stdout",
     "output_type": "stream",
     "text": [
      "Requirement already satisfied: holidays in /home/vfamim/.cache/pypoetry/virtualenvs/supermarket-sales-KoeEQpjq-py3.11/lib/python3.11/site-packages (0.39)\n",
      "Requirement already satisfied: python-dateutil in /home/vfamim/.cache/pypoetry/virtualenvs/supermarket-sales-KoeEQpjq-py3.11/lib/python3.11/site-packages (from holidays) (2.8.2)\n",
      "Requirement already satisfied: six>=1.5 in /home/vfamim/.cache/pypoetry/virtualenvs/supermarket-sales-KoeEQpjq-py3.11/lib/python3.11/site-packages (from python-dateutil->holidays) (1.16.0)\n",
      "\n",
      "\u001b[1m[\u001b[0m\u001b[34;49mnotice\u001b[0m\u001b[1;39;49m]\u001b[0m\u001b[39;49m A new release of pip is available: \u001b[0m\u001b[31;49m23.2.1\u001b[0m\u001b[39;49m -> \u001b[0m\u001b[32;49m23.3.2\u001b[0m\n",
      "\u001b[1m[\u001b[0m\u001b[34;49mnotice\u001b[0m\u001b[1;39;49m]\u001b[0m\u001b[39;49m To update, run: \u001b[0m\u001b[32;49mpip install --upgrade pip\u001b[0m\n"
     ]
    }
   ],
   "source": [
    "!pip install holidays"
   ]
  },
  {
   "cell_type": "code",
   "execution_count": 2,
   "id": "49e7fca1-311e-454b-808e-6a4a233119dc",
   "metadata": {},
   "outputs": [],
   "source": [
    "import pandas as pd\n",
    "import zipfile as zp\n",
    "import holidays\n",
    "from pathlib import Path"
   ]
  },
  {
   "cell_type": "markdown",
   "id": "0029a405-63e0-4013-abe1-780efae2149d",
   "metadata": {},
   "source": [
    "## 1.0. Loading Data"
   ]
  },
  {
   "cell_type": "code",
   "execution_count": 3,
   "id": "d27c2873-7faa-469b-878b-24e2381e650b",
   "metadata": {},
   "outputs": [],
   "source": [
    "# mounting path\n",
    "root_path = Path().absolute().parent\n",
    "csv_file_name = 'VendasSupermercados+CDI.csv.zip'\n",
    "csv_path = str(root_path) + '/data/raw/' + csv_file_name"
   ]
  },
  {
   "cell_type": "code",
   "execution_count": 4,
   "id": "21a17e71-9cb6-43e3-89b2-f41de50ad4d8",
   "metadata": {},
   "outputs": [
    {
     "name": "stdout",
     "output_type": "stream",
     "text": [
      "         Date  VendasSupermercados   CDI\n",
      "0  2010-01-01                76.39  0.66\n",
      "1  2010-02-01                73.95  0.59\n",
      "2  2010-03-01                81.69  0.76\n",
      "3  2010-04-01                77.91  0.66\n",
      "4  2010-05-01                78.66  0.75\n"
     ]
    }
   ],
   "source": [
    "# Open the ZIP archive\n",
    "with zp.ZipFile(csv_path, 'r') as zip_ref:\n",
    "    # Iterate through the files in the archive\n",
    "    for filename in zip_ref.namelist():\n",
    "        if filename.endswith('.csv') and not filename.startswith('__MACOSX/'):\n",
    "            # Read the CSV file directly from the archive\n",
    "            df = pd.read_csv(zip_ref.open(filename), sep=';')\n",
    "            break  # Exit the loop after reading the first CSV file\n",
    "\n",
    "# Now you have the DataFrame 'df' containing the data from the first CSV file\n",
    "print(df.head())  # Print the first few rows of the DataFrame"
   ]
  },
  {
   "cell_type": "code",
   "execution_count": 5,
   "id": "0ed47fe6-e562-45f1-8cb1-de890726696a",
   "metadata": {},
   "outputs": [
    {
     "name": "stdout",
     "output_type": "stream",
     "text": [
      "<class 'pandas.core.frame.DataFrame'>\n",
      "RangeIndex: 164 entries, 0 to 163\n",
      "Data columns (total 3 columns):\n",
      " #   Column               Non-Null Count  Dtype  \n",
      "---  ------               --------------  -----  \n",
      " 0   Date                 164 non-null    object \n",
      " 1   VendasSupermercados  164 non-null    float64\n",
      " 2   CDI                  164 non-null    float64\n",
      "dtypes: float64(2), object(1)\n",
      "memory usage: 4.0+ KB\n"
     ]
    }
   ],
   "source": [
    "df.info()"
   ]
  },
  {
   "cell_type": "code",
   "execution_count": 8,
   "id": "6668a176-f805-4472-9335-266c57764849",
   "metadata": {},
   "outputs": [
    {
     "name": "stdout",
     "output_type": "stream",
     "text": [
      "     year  month  holiday\n",
      "0    2010      1        1\n",
      "1    2010      2        0\n",
      "2    2010      3        0\n",
      "3    2010      4        2\n",
      "4    2010      5        1\n",
      "..    ...    ...      ...\n",
      "163  2023      8        0\n",
      "164  2023      9        1\n",
      "165  2023     10        1\n",
      "166  2023     11        2\n",
      "167  2023     12        1\n",
      "\n",
      "[168 rows x 3 columns]\n"
     ]
    }
   ],
   "source": [
    "# holiday count variable\n",
    "holidays_br = holidays.Brazil(years=range(2010, 2024))\n",
    "\n",
    "# Criar uma lista de datas\n",
    "date = pd.date_range(start=\"2010-01-01\", end=\"2023-12-31\", freq=\"D\")\n",
    "\n",
    "# Criar um DataFrame do Pandas\n",
    "df_holiday = pd.DataFrame({\"Date\": date})\n",
    "\n",
    "# Adicionar uma coluna indicando se o dia é feriado\n",
    "df_holiday[\"holiday\"] = df_holiday[\"Date\"].apply(lambda x: x in holidays_br)\n",
    "\n",
    "# Criar colunas de mês e ano\n",
    "df_holiday[\"year\"] = df_holiday[\"Date\"].dt.year\n",
    "df_holiday[\"month\"] = df_holiday[\"Date\"].dt.month\n",
    "\n",
    "# Agrupar por ano e mês, contando a quantidade de feriados\n",
    "df_group_hd = df_holiday.groupby([\"year\", \"month\"])[\"holiday\"].sum().reset_index()\n",
    "\n",
    "# Visualizar o DataFrame\n",
    "print(df_group_hd)"
   ]
  },
  {
   "cell_type": "code",
   "execution_count": null,
   "id": "cc261991-bb05-4517-b76d-1d7e3d9c5424",
   "metadata": {},
   "outputs": [],
   "source": []
  }
 ],
 "metadata": {
  "kernelspec": {
   "display_name": "Python 3 (ipykernel)",
   "language": "python",
   "name": "python3"
  },
  "language_info": {
   "codemirror_mode": {
    "name": "ipython",
    "version": 3
   },
   "file_extension": ".py",
   "mimetype": "text/x-python",
   "name": "python",
   "nbconvert_exporter": "python",
   "pygments_lexer": "ipython3",
   "version": "3.11.6"
  }
 },
 "nbformat": 4,
 "nbformat_minor": 5
}
